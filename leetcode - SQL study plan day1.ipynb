{
 "cells": [
  {
   "cell_type": "markdown",
   "id": "e9f5a20e",
   "metadata": {},
   "source": [
    "## Q1) [595. Big Countries](https://leetcode.com/problems/big-countries/submissions/)"
   ]
  },
  {
   "cell_type": "markdown",
   "id": "1d3b5e89",
   "metadata": {},
   "source": [
    "```SELECT name , population , area\n",
    "FROM World\n",
    "where (area >= 3000000) Or (population >= 25000000)```"
   ]
  },
  {
   "cell_type": "markdown",
   "id": "79dd9907",
   "metadata": {},
   "source": [
    "## Q2) [1757. Recyclable and Low Fat Products](https://leetcode.com/problems/big-countries/submissions/)"
   ]
  },
  {
   "cell_type": "markdown",
   "id": "e5edb817",
   "metadata": {},
   "source": [
    "```SELECT product_id\n",
    "FROM Products\n",
    "where low_fats = 'Y'\n",
    "and recyclable = 'Y' ```"
   ]
  },
  {
   "cell_type": "markdown",
   "id": "764ce8ab",
   "metadata": {},
   "source": [
    "## Q3) [584. Find Customer Referee](https://leetcode.com/problems/find-customer-referee/)"
   ]
  },
  {
   "cell_type": "markdown",
   "id": "c43c3473",
   "metadata": {},
   "source": [
    "```SELECT name from Customer\n",
    "where isnull(referee_id,0) != 2```"
   ]
  },
  {
   "cell_type": "markdown",
   "id": "ff60599f",
   "metadata": {},
   "source": [
    "## Q4) [183. Customers Who Never Order](https://leetcode.com/problems/customers-who-never-order/)"
   ]
  },
  {
   "cell_type": "markdown",
   "id": "9c676f0f",
   "metadata": {},
   "source": [
    "```SELECT name as Customers\n",
    "from Customers \n",
    "where id not in (SELECT DISTINCT customerId from Orders)```"
   ]
  }
 ],
 "metadata": {
  "kernelspec": {
   "display_name": "Python 3 (ipykernel)",
   "language": "python",
   "name": "python3"
  },
  "language_info": {
   "codemirror_mode": {
    "name": "ipython",
    "version": 3
   },
   "file_extension": ".py",
   "mimetype": "text/x-python",
   "name": "python",
   "nbconvert_exporter": "python",
   "pygments_lexer": "ipython3",
   "version": "3.9.12"
  }
 },
 "nbformat": 4,
 "nbformat_minor": 5
}
