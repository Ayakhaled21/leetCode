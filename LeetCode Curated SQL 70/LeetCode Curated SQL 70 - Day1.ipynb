{
 "cells": [
  {
   "cell_type": "markdown",
   "id": "0b01b09b",
   "metadata": {},
   "source": [
    "## 511. Game Play Analysis I"
   ]
  },
  {
   "cell_type": "markdown",
   "id": "968df970",
   "metadata": {},
   "source": [
    "\n",
    "```SELECT player_id , min(event_date) as first_login\n",
    "FROM Activity\n",
    "GROUP BY player_id```"
   ]
  },
  {
   "cell_type": "markdown",
   "id": "aa028e8c",
   "metadata": {},
   "source": [
    "## 586. Customer Placing the Largest Number of Orders\n",
    "``` SELECT customer_number from (\n",
    "SELECT customer_number , rank() OVER(ORDER BY count(order_number) DESC) as total_num \n",
    "FROM Orders \n",
    "group by customer_number ) as total \n",
    "where total_num = 1 \n",
    "```"
   ]
  }
 ],
 "metadata": {
  "kernelspec": {
   "display_name": "Python 3 (ipykernel)",
   "language": "python",
   "name": "python3"
  },
  "language_info": {
   "codemirror_mode": {
    "name": "ipython",
    "version": 3
   },
   "file_extension": ".py",
   "mimetype": "text/x-python",
   "name": "python",
   "nbconvert_exporter": "python",
   "pygments_lexer": "ipython3",
   "version": "3.9.12"
  }
 },
 "nbformat": 4,
 "nbformat_minor": 5
}
