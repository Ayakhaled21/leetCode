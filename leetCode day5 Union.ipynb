{
 "cells": [
  {
   "cell_type": "markdown",
   "id": "d5bd5560",
   "metadata": {},
   "source": [
    "## Q1) [175. Combine Two Tables](https://leetcode.com/problems/combine-two-tables/?envType=study-plan&id=sql-i)"
   ]
  },
  {
   "cell_type": "markdown",
   "id": "15943152",
   "metadata": {},
   "source": [
    "```SELECT p.firstName firstName  , \n",
    "p.lastName lastName , \n",
    "a.city city , \n",
    "a.state state\n",
    "FROM Person as p \n",
    "LEFT JOIN Address as a \n",
    "ON p.personId = a.personId```"
   ]
  },
  {
   "cell_type": "markdown",
   "id": "7b1ee29d",
   "metadata": {},
   "source": [
    "## Q2) [1581. Customer Who Visited but Did Not Make Any Transactions](https://leetcode.com/problems/customer-who-visited-but-did-not-make-any-transactions/?envType=study-plan&id=sql-i)"
   ]
  },
  {
   "cell_type": "markdown",
   "id": "6e136d46",
   "metadata": {},
   "source": [
    "```SELECT \n",
    "v.customer_id customer_id , count(v.visit_id) count_no_trans\n",
    "FROM Visits as v \n",
    "LEFT JOIN Transactions as t\n",
    "ON v.visit_id = t.visit_id\n",
    "WHERE t.transaction_id IS NULL \n",
    "GROUP BY v.customer_id```"
   ]
  },
  {
   "cell_type": "markdown",
   "id": "6e246522",
   "metadata": {},
   "source": [
    "## Q3) [1148. Article Views I](https://leetcode.com/problems/article-views-i/?envType=study-plan&id=sql-i)"
   ]
  },
  {
   "cell_type": "markdown",
   "id": "251526e6",
   "metadata": {},
   "source": [
    "```SELECT author_id as id \n",
    "FROM Views as v \n",
    "WHERE CASE WHEN author_id = viewer_id then 1 else 0 end = 1 \n",
    "group by author_id \n",
    "having count(*) >= 1```"
   ]
  }
 ],
 "metadata": {
  "kernelspec": {
   "display_name": "Python 3 (ipykernel)",
   "language": "python",
   "name": "python3"
  },
  "language_info": {
   "codemirror_mode": {
    "name": "ipython",
    "version": 3
   },
   "file_extension": ".py",
   "mimetype": "text/x-python",
   "name": "python",
   "nbconvert_exporter": "python",
   "pygments_lexer": "ipython3",
   "version": "3.9.12"
  }
 },
 "nbformat": 4,
 "nbformat_minor": 5
}
