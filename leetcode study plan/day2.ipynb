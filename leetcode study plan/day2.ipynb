{
 "cells": [
  {
   "cell_type": "markdown",
   "id": "4d3b2cba",
   "metadata": {},
   "source": [
    "## Q1) 1873. Calculate Special Bonus\n",
    "\n",
    "\n",
    "```# Write your MySQL query statement below\n",
    "SELECT employee_id , \n",
    "CASE WHEN employee_id % 2 != 0 \n",
    "and LEFT(name,1) != 'M'\n",
    "THEN salary \n",
    "    ELSE 0 END AS bonus\n",
    "FROM Employees\n",
    "ORDER BY employee_id```"
   ]
  },
  {
   "cell_type": "markdown",
   "id": "2eb62b83",
   "metadata": {},
   "source": [
    "## Q2) 627. Swap Salary\n",
    "\n",
    "```\n",
    "UPDATE Salary\n",
    "SET sex = CASE WHEN sex = 'f' THEN 'm' ELSE 'f' end \n",
    "where sex in ('f','m')```"
   ]
  },
  {
   "cell_type": "markdown",
   "id": "bb5d97e2",
   "metadata": {},
   "source": [
    "## Q3) 196. Delete Duplicate Emails\n",
    "\n",
    "```DELETE FROM Person WHERE \n",
    "id in (\n",
    "SELECT DISTINCT  id \n",
    "FROM (\n",
    "SELECT id , DENSE_RANK() OVER(PARTITION BY email ORDER BY id ASC) as r \n",
    "FROM Person ) as email_r \n",
    "WHERE r > 1 )```"
   ]
  }
 ],
 "metadata": {
  "kernelspec": {
   "display_name": "Python 3 (ipykernel)",
   "language": "python",
   "name": "python3"
  },
  "language_info": {
   "codemirror_mode": {
    "name": "ipython",
    "version": 3
   },
   "file_extension": ".py",
   "mimetype": "text/x-python",
   "name": "python",
   "nbconvert_exporter": "python",
   "pygments_lexer": "ipython3",
   "version": "3.9.12"
  }
 },
 "nbformat": 4,
 "nbformat_minor": 5
}
