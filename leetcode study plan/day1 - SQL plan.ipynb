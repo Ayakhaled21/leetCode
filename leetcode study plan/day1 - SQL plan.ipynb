{
 "cells": [
  {
   "cell_type": "markdown",
   "id": "c8b7bbaf",
   "metadata": {},
   "source": [
    "## Q1) 595. Big Countries"
   ]
  },
  {
   "cell_type": "markdown",
   "id": "a4829423",
   "metadata": {},
   "source": [
    "```# Write your MySQL query statement below\n",
    "SELECT \n",
    "name , population , area\n",
    "FROM World\n",
    "where area >= 3000000 \n",
    "or population >= 25000000```"
   ]
  },
  {
   "cell_type": "markdown",
   "id": "37cd2cf4",
   "metadata": {},
   "source": [
    "## Q2) 1757. Recyclable and Low Fat Products\n",
    "\n",
    "```# Write your MySQL query statement below\n",
    "SELECT product_id FROM Products \n",
    "where low_fats = 'Y'\n",
    "and recyclable = 'Y'```"
   ]
  },
  {
   "cell_type": "markdown",
   "id": "a94f4da2",
   "metadata": {},
   "source": [
    "## Q3) 584. Find Customer Referee\n",
    "\n",
    "```\n",
    "SELECT name\n",
    "FROM Customer \n",
    "where ifnull(referee_id ,0) != 2 ```"
   ]
  },
  {
   "cell_type": "markdown",
   "id": "78695911",
   "metadata": {},
   "source": [
    "## Q4) 183. Customers Who Never Order\n",
    "\n",
    "```SELECT name as Customers \n",
    "FROM Customers\n",
    "WHERE id not in (SELECT distinct customerId from Orders)```"
   ]
  }
 ],
 "metadata": {
  "kernelspec": {
   "display_name": "Python 3 (ipykernel)",
   "language": "python",
   "name": "python3"
  },
  "language_info": {
   "codemirror_mode": {
    "name": "ipython",
    "version": 3
   },
   "file_extension": ".py",
   "mimetype": "text/x-python",
   "name": "python",
   "nbconvert_exporter": "python",
   "pygments_lexer": "ipython3",
   "version": "3.9.12"
  }
 },
 "nbformat": 4,
 "nbformat_minor": 5
}
