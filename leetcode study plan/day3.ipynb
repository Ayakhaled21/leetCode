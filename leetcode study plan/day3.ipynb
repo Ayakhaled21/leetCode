{
 "cells": [
  {
   "cell_type": "markdown",
   "id": "af348fe6",
   "metadata": {},
   "source": [
    "## Q1) 1667. Fix Names in a Table\n",
    "\n",
    "``` SELECT user_id , \n",
    "concat(upper(left(name,1)) , lower(substring(name,2))) as name \n",
    "FROM Users\n",
    "Order by user_id```"
   ]
  },
  {
   "cell_type": "markdown",
   "id": "6337e030",
   "metadata": {},
   "source": [
    "## Q2) 1484. Group Sold Products By The Date\n",
    "\n",
    "\n",
    "``` SELECT \n",
    "sell_date as sell_date , \n",
    "count(distinct product) num_sold , \n",
    " GROUP_CONCAT(distinct product ORDER BY product ASC) AS products\n",
    "FROM Activities\n",
    "group by sell_date\n",
    "ORDER BY sell_date ```"
   ]
  },
  {
   "cell_type": "markdown",
   "id": "68f10464",
   "metadata": {},
   "source": [
    "## Q3) 1527. Patients With a Condition\n",
    "\n",
    "```\n",
    "SELECT \n",
    "patient_id , \n",
    "patient_name , \n",
    "conditions\n",
    "FROM Patients\n",
    "WHERE conditions LIKE 'DIAB1%' OR conditions LIKE '% DIAB1%' ```"
   ]
  }
 ],
 "metadata": {
  "kernelspec": {
   "display_name": "Python 3 (ipykernel)",
   "language": "python",
   "name": "python3"
  },
  "language_info": {
   "codemirror_mode": {
    "name": "ipython",
    "version": 3
   },
   "file_extension": ".py",
   "mimetype": "text/x-python",
   "name": "python",
   "nbconvert_exporter": "python",
   "pygments_lexer": "ipython3",
   "version": "3.9.12"
  }
 },
 "nbformat": 4,
 "nbformat_minor": 5
}
