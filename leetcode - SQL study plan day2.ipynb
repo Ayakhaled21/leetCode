{
 "cells": [
  {
   "cell_type": "markdown",
   "id": "4d1c1118",
   "metadata": {},
   "source": [
    "## Q1) [1873. Calculate Special Bonus](https://leetcode.com/problems/calculate-special-bonus/)"
   ]
  },
  {
   "cell_type": "markdown",
   "id": "e47ce864",
   "metadata": {},
   "source": [
    "```\n",
    "SELECT employee_id , \n",
    "CASE WHEN (employee_id % 2 != 0) and LEFT(name,1) != 'M' then salary \n",
    "ELSE 0 end as bonus \n",
    "FROM Employees\n",
    "ORDER BY employee_id```"
   ]
  },
  {
   "cell_type": "markdown",
   "id": "313468eb",
   "metadata": {},
   "source": [
    "## Q2) [627. Swap Salary](https://leetcode.com/problems/swap-salary/)"
   ]
  },
  {
   "cell_type": "markdown",
   "id": "a0c86e85",
   "metadata": {},
   "source": [
    "```UPDATE Salary\n",
    "SET  sex = CASE WHEN sex = 'm' then 'f' else 'm' end ```"
   ]
  },
  {
   "cell_type": "markdown",
   "id": "c47ea19f",
   "metadata": {},
   "source": [
    "## Q3) [196. Delete Duplicate Emails](https://leetcode.com/problems/delete-duplicate-emails/)"
   ]
  },
  {
   "cell_type": "markdown",
   "id": "8c309b61",
   "metadata": {},
   "source": [
    "```DELETE from Person\n",
    "where id in ( SELECT id \n",
    "FROM (\n",
    "SELECT id , dense_rank() OVER(PARTITION BY email ORDER BY id ASC ) as r \n",
    "FROM Person \n",
    ") as tb \n",
    "where r > 1 ) ```"
   ]
  }
 ],
 "metadata": {
  "kernelspec": {
   "display_name": "Python 3 (ipykernel)",
   "language": "python",
   "name": "python3"
  },
  "language_info": {
   "codemirror_mode": {
    "name": "ipython",
    "version": 3
   },
   "file_extension": ".py",
   "mimetype": "text/x-python",
   "name": "python",
   "nbconvert_exporter": "python",
   "pygments_lexer": "ipython3",
   "version": "3.9.12"
  }
 },
 "nbformat": 4,
 "nbformat_minor": 5
}
