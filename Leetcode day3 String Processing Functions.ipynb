{
 "cells": [
  {
   "cell_type": "markdown",
   "id": "9585ffdc",
   "metadata": {},
   "source": [
    "## Q1) [1667. Fix Names in a Table](https://leetcode.com/problems/fix-names-in-a-table/?envType=study-plan&id=sql-i)"
   ]
  },
  {
   "cell_type": "markdown",
   "id": "257060fe",
   "metadata": {},
   "source": [
    "```\n",
    "SELECT user_id , UPPER(LEFT(name,1)) + lower(substring(name,2,len(name) - 1)) as name \n",
    "FROM Users\n",
    "ORDER BY user_id```"
   ]
  },
  {
   "cell_type": "markdown",
   "id": "5692ee0d",
   "metadata": {},
   "source": [
    "## Q2) [1484. Group Sold Products By The Date](https://leetcode.com/problems/group-sold-products-by-the-date/?envType=study-plan&id=sql-i)"
   ]
  },
  {
   "cell_type": "markdown",
   "id": "09e9af04",
   "metadata": {},
   "source": [
    "```SELECT \n",
    "sell_date , count(product) num_sold , \n",
    "string_agg(product,',')  WITHIN GROUP (ORDER BY product ASC) products\n",
    "FROM (SELECT distinct sell_date , product from Activities)  Activities\n",
    "GROUP BY sell_date```"
   ]
  },
  {
   "cell_type": "markdown",
   "id": "793eb942",
   "metadata": {},
   "source": [
    "## Q3) [1527. Patients With a Condition](https://leetcode.com/problems/patients-with-a-condition/?envType=study-plan&id=sql-i)"
   ]
  },
  {
   "cell_type": "markdown",
   "id": "9433dde0",
   "metadata": {},
   "source": [
    "```SELECT patient_id ,  patient_name , conditions from Patients\n",
    "where UPPER(conditions) LIKE '% DIAB1%' OR  UPPER(conditions) LIKE 'DIAB1%'```"
   ]
  },
  {
   "cell_type": "code",
   "execution_count": null,
   "id": "4eea99b0",
   "metadata": {},
   "outputs": [],
   "source": []
  }
 ],
 "metadata": {
  "kernelspec": {
   "display_name": "Python 3 (ipykernel)",
   "language": "python",
   "name": "python3"
  },
  "language_info": {
   "codemirror_mode": {
    "name": "ipython",
    "version": 3
   },
   "file_extension": ".py",
   "mimetype": "text/x-python",
   "name": "python",
   "nbconvert_exporter": "python",
   "pygments_lexer": "ipython3",
   "version": "3.9.12"
  }
 },
 "nbformat": 4,
 "nbformat_minor": 5
}
